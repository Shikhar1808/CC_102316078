{
  "cells": [
    {
      "cell_type": "markdown",
      "metadata": {
        "id": "A7GS_4xuSo0H"
      },
      "source": [
        "1.1: WAP to print your name three times."
      ]
    },
    {
      "cell_type": "code",
      "execution_count": 1,
      "metadata": {
        "colab": {
          "base_uri": "https://localhost:8080/"
        },
        "id": "dxAYNiHASo0I",
        "outputId": "0e3e3d00-7e14-4cea-af78-25eb1fb68667"
      },
      "outputs": [
        {
          "output_type": "stream",
          "name": "stdout",
          "text": [
            "Shikhar Saxena\n",
            "Shikhar Saxena\n",
            "Shikhar Saxena\n"
          ]
        }
      ],
      "source": [
        "print(\"Shikhar Saxena\")\n",
        "print(\"Shikhar Saxena\")\n",
        "print(\"Shikhar Saxena\")"
      ]
    },
    {
      "cell_type": "markdown",
      "metadata": {
        "id": "ajiUUxWLSo0I"
      },
      "source": [
        "2.1: WAP to add three numbers and print the result."
      ]
    },
    {
      "cell_type": "code",
      "execution_count": null,
      "metadata": {
        "id": "SwXWJkTXSo0J",
        "outputId": "42ee6f2e-dff9-4fda-ef88-3f956c25d393"
      },
      "outputs": [
        {
          "name": "stdout",
          "output_type": "stream",
          "text": [
            "130\n"
          ]
        }
      ],
      "source": [
        "a = 100\n",
        "b = 10\n",
        "c = 20\n",
        "d = a + b + c\n",
        "print(d)"
      ]
    },
    {
      "cell_type": "markdown",
      "metadata": {
        "id": "eSCGxW6rSo0J"
      },
      "source": [
        "2.2: WAP to concatinate three strings and print the result"
      ]
    },
    {
      "cell_type": "code",
      "execution_count": 2,
      "metadata": {
        "colab": {
          "base_uri": "https://localhost:8080/"
        },
        "id": "sQAp0frySo0J",
        "outputId": "4ad849b9-2537-4408-e428-e27f0ea4cf82"
      },
      "outputs": [
        {
          "output_type": "stream",
          "name": "stdout",
          "text": [
            "I +  like +  Pokemons -> I like Pokemons\n"
          ]
        }
      ],
      "source": [
        "a = \"I\"\n",
        "b = \" like\"\n",
        "c = \" Pokemons\"\n",
        "d = a  +  b  + c\n",
        "print(a , \"+\", b , \"+\", c ,\"->\", d)"
      ]
    },
    {
      "cell_type": "markdown",
      "metadata": {
        "id": "PCM8uHjYSo0J"
      },
      "source": [
        "4.1: WAP to print the table of 7, 9"
      ]
    },
    {
      "cell_type": "code",
      "execution_count": null,
      "metadata": {
        "id": "qYc_vmtjSo0J",
        "outputId": "e52a3fe1-5b50-427a-a924-348a19e7f42b"
      },
      "outputs": [
        {
          "name": "stdout",
          "output_type": "stream",
          "text": [
            "7 * 1 = 7\n",
            "7 * 2 = 14\n",
            "7 * 3 = 21\n",
            "7 * 4 = 28\n",
            "7 * 5 = 35\n",
            "7 * 6 = 42\n",
            "7 * 7 = 49\n",
            "7 * 8 = 56\n",
            "7 * 9 = 63\n",
            "7 * 10 = 70\n",
            "9 * 1 = 9\n",
            "9 * 2 = 18\n",
            "9 * 3 = 27\n",
            "9 * 4 = 36\n",
            "9 * 5 = 45\n",
            "9 * 6 = 54\n",
            "9 * 7 = 63\n",
            "9 * 8 = 72\n",
            "9 * 9 = 81\n",
            "9 * 10 = 90\n"
          ]
        }
      ],
      "source": [
        "for i in range (1,11):\n",
        "    print( 7,\"*\", i,\"=\",i*7)\n",
        "\n",
        "\n",
        "for i in range (1,11):\n",
        "    print( 9,\"*\", i,\"=\" ,i*9)"
      ]
    },
    {
      "cell_type": "markdown",
      "metadata": {
        "id": "1CAGA5U1So0K"
      },
      "source": [
        "4.2: WAP to print the table of n and n is given by user."
      ]
    },
    {
      "cell_type": "code",
      "execution_count": null,
      "metadata": {
        "id": "6D2j6sNASo0K",
        "outputId": "c4600a79-c3f8-46de-9dd4-bfb680b74c19"
      },
      "outputs": [
        {
          "name": "stdout",
          "output_type": "stream",
          "text": [
            "34 * 1 = 34\n",
            "34 * 2 = 68\n",
            "34 * 3 = 102\n",
            "34 * 4 = 136\n",
            "34 * 5 = 170\n",
            "34 * 6 = 204\n",
            "34 * 7 = 238\n",
            "34 * 8 = 272\n",
            "34 * 9 = 306\n",
            "34 * 10 = 340\n"
          ]
        }
      ],
      "source": [
        "a = int(input(\"enter the number: \"))\n",
        "for i in range(1,11):\n",
        "    print(a,\"*\",i,\"=\",i*a)"
      ]
    },
    {
      "cell_type": "markdown",
      "metadata": {
        "id": "EKx1WqTUSo0K"
      },
      "source": [
        "4.3: WAP to add all the numbers from 1 to n and n is given by user."
      ]
    },
    {
      "cell_type": "code",
      "execution_count": null,
      "metadata": {
        "id": "mG7SBl-sSo0K",
        "outputId": "491ed1b1-0eb1-4a14-cfce-4d5cec5ccfa6"
      },
      "outputs": [
        {
          "name": "stdout",
          "output_type": "stream",
          "text": [
            "The total sum up to a is:  253\n"
          ]
        }
      ],
      "source": [
        "a = int(input(\"Enter the no: \"))\n",
        "s = 0\n",
        "for i in range(1,a):\n",
        "    s = s+i\n",
        "print(\"The total sum up to a is: \",s)"
      ]
    },
    {
      "cell_type": "markdown",
      "metadata": {
        "id": "8vq2dVm6So0K"
      },
      "source": [
        "5.1: WAP to find max amoung three numbers and input from user. [Try max() function]"
      ]
    },
    {
      "cell_type": "code",
      "execution_count": null,
      "metadata": {
        "id": "cR8_Cp4gSo0L",
        "outputId": "a500f8b4-80b4-4702-dda0-d91b86184e9b"
      },
      "outputs": [
        {
          "name": "stdout",
          "output_type": "stream",
          "text": [
            "The max no.:  5\n"
          ]
        }
      ],
      "source": [
        "import math\n",
        "\n",
        "a = int(input(\"enter first no: \"))\n",
        "b = int(input(\"enter second no: \"))\n",
        "c = int(input(\"enter Third no: \"))\n",
        "print(\"The max no.: \",max(a,b,c))"
      ]
    },
    {
      "cell_type": "markdown",
      "metadata": {
        "id": "WOvF8aEvSo0L"
      },
      "source": [
        "5.2: WAP to add all numbers divisible by 7 and 9 from 1 to n and n is given by the user."
      ]
    },
    {
      "cell_type": "code",
      "execution_count": null,
      "metadata": {
        "id": "EhIBnAxqSo0L",
        "outputId": "45577ee3-5529-4978-c037-3432b37715a7"
      },
      "outputs": [
        {
          "name": "stdout",
          "output_type": "stream",
          "text": [
            "sum :  0\n"
          ]
        }
      ],
      "source": [
        "a = int(input(\"Enter the no: \"))\n",
        "s= 0\n",
        "for i in range(1,a+1):\n",
        "    if i%7==0 and i%9==0:\n",
        "        s = s +i\n",
        "print(\"sum : \",s)"
      ]
    },
    {
      "cell_type": "markdown",
      "metadata": {
        "id": "8JG0QZ5RSo0L"
      },
      "source": [
        "5.3: WAP to add all prime numbers from 1 to n and n is given by the user."
      ]
    },
    {
      "cell_type": "code",
      "execution_count": null,
      "metadata": {
        "id": "HEDs0pQuSo0L",
        "outputId": "73c2cf26-d53e-439e-da54-ed92f50ce9d2"
      },
      "outputs": [
        {
          "name": "stdout",
          "output_type": "stream",
          "text": [
            "The sum of all prime numbers from 1 to 65 is: 501\n"
          ]
        }
      ],
      "source": [
        "n = int(input(\"Enter the value of n: \"))\n",
        "s = 0\n",
        "\n",
        "for num in range(2, n + 1):\n",
        "    is_prime = True\n",
        "    for i in range(2, int(num // 2) + 1):\n",
        "        if num % i == 0:\n",
        "            is_prime = False\n",
        "            break\n",
        "    if is_prime:\n",
        "        s += num\n",
        "\n",
        "print(f\"The sum of all prime numbers from 1 to {n} is: {s}\")\n"
      ]
    },
    {
      "cell_type": "markdown",
      "metadata": {
        "id": "GGD__LuKSo0M"
      },
      "source": [
        "6.1: Function to add all odd numbers from 1 to n."
      ]
    },
    {
      "cell_type": "code",
      "execution_count": null,
      "metadata": {
        "id": "Wli9GwsaSo0M",
        "outputId": "243df356-672c-468a-a78d-8f555da415eb"
      },
      "outputs": [
        {
          "name": "stdout",
          "output_type": "stream",
          "text": [
            "Sum of the odd number:  729\n"
          ]
        }
      ],
      "source": [
        "def ADDodd(n):\n",
        "    s = 0\n",
        "    for i in range(1,n+1):\n",
        "        if i%2!=0:\n",
        "            s = s +i\n",
        "    return s\n",
        "n = int(input(\"Enter the no.: \"))\n",
        "result = ADDodd(n)\n",
        "print(\"Sum of the odd number: \",result)"
      ]
    },
    {
      "cell_type": "markdown",
      "metadata": {
        "id": "IsV_4jv9So0M"
      },
      "source": [
        "6.2: WAP using function that add all prime numbers from 1 to n, n given by the user."
      ]
    },
    {
      "cell_type": "code",
      "execution_count": null,
      "metadata": {
        "id": "W_PhHa2GSo0M",
        "outputId": "4deabc8a-eba1-4d15-ed78-b70fe1d0242d"
      },
      "outputs": [
        {
          "name": "stdout",
          "output_type": "stream",
          "text": [
            "sum of prime no.:  281\n"
          ]
        }
      ],
      "source": [
        "def is_prime(n):\n",
        "    if n < 2:\n",
        "        return False\n",
        "    for i in range(2, int(n** 0.5) + 1):\n",
        "        if n % i == 0:\n",
        "            return False\n",
        "    return True\n",
        "\n",
        "def sum_of_primes(n):\n",
        "    s = 0\n",
        "    for i in range(1, n + 1):\n",
        "        if is_prime(i):\n",
        "            s += i\n",
        "    return s\n",
        "\n",
        "n = int(input(\"Enter the value of n: \"))\n",
        "\n",
        "result = sum_of_primes(n)\n",
        "print(\"sum of prime no.: \",result)"
      ]
    }
  ],
  "metadata": {
    "kernelspec": {
      "display_name": "Python 3",
      "language": "python",
      "name": "python3"
    },
    "language_info": {
      "codemirror_mode": {
        "name": "ipython",
        "version": 3
      },
      "file_extension": ".py",
      "mimetype": "text/x-python",
      "name": "python",
      "nbconvert_exporter": "python",
      "pygments_lexer": "ipython3",
      "version": "3.9.13"
    },
    "colab": {
      "provenance": []
    }
  },
  "nbformat": 4,
  "nbformat_minor": 0
}