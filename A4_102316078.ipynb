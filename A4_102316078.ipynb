{
  "nbformat": 4,
  "nbformat_minor": 0,
  "metadata": {
    "colab": {
      "provenance": []
    },
    "kernelspec": {
      "name": "python3",
      "display_name": "Python 3"
    },
    "language_info": {
      "name": "python"
    }
  },
  "cells": [
    {
      "cell_type": "code",
      "execution_count": null,
      "metadata": {
        "colab": {
          "base_uri": "https://localhost:8080/"
        },
        "id": "kL4A93tA8JYi",
        "outputId": "955a4165-6c52-4597-f660-8972346029fa"
      },
      "outputs": [
        {
          "output_type": "stream",
          "name": "stdout",
          "text": [
            "Original Array: [1 2 3 4 5]\n",
            "After adding 2: [3 4 5 6 7]\n",
            "After multiplying by 3: [ 3  6  9 12 15]\n",
            "After dividing by 2: [0.5 1.  1.5 2.  2.5]\n"
          ]
        }
      ],
      "source": [
        "import numpy as np\n",
        "# Q1\n",
        "arr1 = np.array([1, 2, 3, 4, 5])\n",
        "print(\"Original Array:\", arr1)\n",
        "arr_add = arr1 + 2\n",
        "print(\"After adding 2:\", arr_add)\n",
        "\n",
        "arr_mult = arr1 * 3\n",
        "print(\"After multiplying by 3:\", arr_mult)\n",
        "\n",
        "arr_div = arr1 / 2\n",
        "print(\"After dividing by 2:\", arr_div)\n"
      ]
    },
    {
      "cell_type": "code",
      "source": [
        "import numpy as np\n",
        "# Q2\n",
        "arr2 = np.array([1, 2, 3, 6, 4, 5])\n",
        "arr_rev = arr2[::-1]\n",
        "print(\"Reversed array:\", arr_rev)\n",
        "\n",
        "def most_frequent(arr):\n",
        "    vals, counts = np.unique(arr, return_counts=True)\n",
        "    max_count = np.max(counts)\n",
        "    most_freq_val = vals[np.argmax(counts)]\n",
        "    indices = np.where(arr == most_freq_val)[0]\n",
        "    return most_freq_val, indices\n",
        "\n",
        "x = np.array([1,2,3,4,5,1,2,1,1,1])\n",
        "y = np.array([1,1,1,2,3,4,2,4,3,3])\n",
        "\n",
        "val_x, indices_x = most_frequent(x)\n",
        "print(f\"Most frequent value in x: {val_x}, Indices: {indices_x}\")\n",
        "\n",
        "val_y, indices_y = most_frequent(y)\n",
        "print(f\"Most frequent value in y: {val_y}, Indices: {indices_y}\")"
      ],
      "metadata": {
        "colab": {
          "base_uri": "https://localhost:8080/"
        },
        "id": "TqArYWSe-E57",
        "outputId": "1c347bc3-0936-4d3a-c70b-470ea57ca961"
      },
      "execution_count": null,
      "outputs": [
        {
          "output_type": "stream",
          "name": "stdout",
          "text": [
            "Reversed array: [5 4 6 3 2 1]\n",
            "Most frequent value in x: 1, Indices: [0 5 7 8 9]\n",
            "Most frequent value in y: 1, Indices: [0 1 2]\n"
          ]
        }
      ]
    },
    {
      "cell_type": "code",
      "source": [
        "import numpy as np\n",
        "# Q3\n",
        "arr3 = np.array([[10, 20, 30], [40, 50, 60], [70, 80, 90]])\n",
        "print(\"Element at 1st row, 2nd column:\", arr3[0, 1])\n",
        "print(\"Element at 3rd row, 1st column:\", arr3[2, 0])"
      ],
      "metadata": {
        "colab": {
          "base_uri": "https://localhost:8080/"
        },
        "id": "tQhlz0C3-XMl",
        "outputId": "8f06824f-ee27-4c80-e760-66e98935eff2"
      },
      "execution_count": null,
      "outputs": [
        {
          "output_type": "stream",
          "name": "stdout",
          "text": [
            "Element at 1st row, 2nd column: 20\n",
            "Element at 3rd row, 1st column: 70\n"
          ]
        }
      ]
    },
    {
      "cell_type": "code",
      "source": [
        "#Question4\n",
        "ShikharSaxena = np.linspace(10, 100, 25)\n",
        "print(\"Original Array:\\n\", ShikharSaxena)\n",
        "print(\"\\nArray Properties:\")\n",
        "print(f\"Dimensions: {ShikharSaxena.ndim}\")\n",
        "print(f\"Shape: {ShikharSaxena.shape}\")\n",
        "print(f\"Total elements: {ShikharSaxena.size}\")\n",
        "print(f\"Data type: {ShikharSaxena.dtype}\")\n",
        "print(f\"Total bytes consumed: {ShikharSaxena.nbytes}\")\n",
        "transposed_array = ShikharSaxena.reshape(25, 1)\n",
        "print(\"\\nTransposed array using reshape():\\n\", transposed_array)\n",
        "print(\"\\nUsing T attribute:\\n\", ShikharSaxena.T)"
      ],
      "metadata": {
        "colab": {
          "base_uri": "https://localhost:8080/"
        },
        "id": "yDwpaHGl-bbR",
        "outputId": "68581362-a265-4950-9b73-697651732611"
      },
      "execution_count": 3,
      "outputs": [
        {
          "output_type": "stream",
          "name": "stdout",
          "text": [
            "Original Array:\n",
            " [ 10.    13.75  17.5   21.25  25.    28.75  32.5   36.25  40.    43.75\n",
            "  47.5   51.25  55.    58.75  62.5   66.25  70.    73.75  77.5   81.25\n",
            "  85.    88.75  92.5   96.25 100.  ]\n",
            "\n",
            "Array Properties:\n",
            "Dimensions: 1\n",
            "Shape: (25,)\n",
            "Total elements: 25\n",
            "Data type: float64\n",
            "Total bytes consumed: 200\n",
            "\n",
            "Transposed array using reshape():\n",
            " [[ 10.  ]\n",
            " [ 13.75]\n",
            " [ 17.5 ]\n",
            " [ 21.25]\n",
            " [ 25.  ]\n",
            " [ 28.75]\n",
            " [ 32.5 ]\n",
            " [ 36.25]\n",
            " [ 40.  ]\n",
            " [ 43.75]\n",
            " [ 47.5 ]\n",
            " [ 51.25]\n",
            " [ 55.  ]\n",
            " [ 58.75]\n",
            " [ 62.5 ]\n",
            " [ 66.25]\n",
            " [ 70.  ]\n",
            " [ 73.75]\n",
            " [ 77.5 ]\n",
            " [ 81.25]\n",
            " [ 85.  ]\n",
            " [ 88.75]\n",
            " [ 92.5 ]\n",
            " [ 96.25]\n",
            " [100.  ]]\n",
            "\n",
            "Using T attribute:\n",
            " [ 10.    13.75  17.5   21.25  25.    28.75  32.5   36.25  40.    43.75\n",
            "  47.5   51.25  55.    58.75  62.5   66.25  70.    73.75  77.5   81.25\n",
            "  85.    88.75  92.5   96.25 100.  ]\n"
          ]
        }
      ]
    },
    {
      "cell_type": "code",
      "source": [
        "ucs420_ShikharSaxena = np.array([[10, 20, 30, 40],\n",
        "                         [50, 60, 70, 80],\n",
        "                         [90, 15, 20, 35]])\n",
        "mean_value = np.mean(ucs420_ShikharSaxena)\n",
        "median_value = np.median(ucs420_ShikharSaxena)\n",
        "max_value = np.max(ucs420_ShikharSaxena)\n",
        "min_value = np.min(ucs420_ShikharSaxena)\n",
        "unique_elements = np.unique(ucs420_ShikharSaxena)\n",
        "reshaped_ucs420_ShikharSaxena = ucs420_ShikharSaxena.reshape(4, 3)\n",
        "resized_ucs420_ShikharSaxena = np.resize(ucs420_ShikharSaxena, (2, 3))\n",
        "print(\"Original 2D Array (3x4):\\n\", ucs420_ShikharSaxena)\n",
        "print(\"\\nMean:\", mean_value)\n",
        "print(\"Median:\", median_value)\n",
        "print(\"Max:\", max_value)\n",
        "print(\"Min:\", min_value)\n",
        "print(\"Unique Elements:\", unique_elements)\n",
        "print(\"\\nReshaped Array (4x3):\\n\", reshaped_ucs420_ShikharSaxena)\n",
        "print(\"\\nResized Array (2x3):\\n\", resized_ucs420_ShikharSaxena)"
      ],
      "metadata": {
        "colab": {
          "base_uri": "https://localhost:8080/"
        },
        "id": "_6AtH07n-lUO",
        "outputId": "e6403c42-53fc-45e0-db5b-72e638323e8f"
      },
      "execution_count": 4,
      "outputs": [
        {
          "output_type": "stream",
          "name": "stdout",
          "text": [
            "Original 2D Array (3x4):\n",
            " [[10 20 30 40]\n",
            " [50 60 70 80]\n",
            " [90 15 20 35]]\n",
            "\n",
            "Mean: 43.333333333333336\n",
            "Median: 37.5\n",
            "Max: 90\n",
            "Min: 10\n",
            "Unique Elements: [10 15 20 30 35 40 50 60 70 80 90]\n",
            "\n",
            "Reshaped Array (4x3):\n",
            " [[10 20 30]\n",
            " [40 50 60]\n",
            " [70 80 90]\n",
            " [15 20 35]]\n",
            "\n",
            "Resized Array (2x3):\n",
            " [[10 20 30]\n",
            " [40 50 60]]\n"
          ]
        }
      ]
    }
  ]
}